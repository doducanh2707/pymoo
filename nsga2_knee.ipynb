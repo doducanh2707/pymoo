{
 "cells": [
  {
   "cell_type": "code",
   "execution_count": 207,
   "metadata": {},
   "outputs": [
    {
     "name": "stdout",
     "output_type": "stream",
     "text": [
      "The autoreload extension is already loaded. To reload it, use:\n",
      "  %reload_ext autoreload\n"
     ]
    }
   ],
   "source": [
    "%load_ext autoreload\n",
    "%autoreload 2"
   ]
  },
  {
   "cell_type": "code",
   "execution_count": 208,
   "metadata": {},
   "outputs": [],
   "source": [
    "import glob,os\n",
    "from pymoo.algorithms.moo.nsga2 import NSGA2\n",
    "from pymoo.optimize import minimize\n",
    "from pymoo.problems import *"
   ]
  },
  {
   "cell_type": "code",
   "execution_count": 209,
   "metadata": {},
   "outputs": [],
   "source": [
    "request_count = [10,20,30]\n",
    "tasks = []\n",
    "for file in glob.glob(os.path.join('./pymoo/problems/nfv/sfc/data/input', '*_network.txt')):\n",
    "    if 'nsf' not in file:\n",
    "        continue\n",
    "    n = file_to_network(file)\n",
    "    # requests = file_to_requests(os.path.join(args.input, f'{dat}_requests.txt'))\n",
    "    for cnt in request_count:\n",
    "        req_file = file.replace('network', f'{cnt}requests')\n",
    "        name = req_file.split('\\\\')[-1][:-5]\n",
    "        requests = file_to_requests(req_file)\n",
    "        name = req_file.split('\\\\')[-1][:-5]\n",
    "        tasks.append((n,requests,name))\n"
   ]
  },
  {
   "cell_type": "code",
   "execution_count": 210,
   "metadata": {},
   "outputs": [
    {
     "name": "stderr",
     "output_type": "stream",
     "text": [
      "c:\\Users\\84364\\Desktop\\pymoo\\pymoo\\algorithms\\moo\\nsga2.py:179: FutureWarning: Using a non-tuple sequence for multidimensional indexing is deprecated; use `arr[tuple(seq)]` instead of `arr[seq]`. In the future this will be interpreted as an array index, `arr[np.array(seq)]`, which will result either in an error or a different result.\n",
      "  I = []\n",
      "c:\\Users\\84364\\Desktop\\pymoo\\pymoo\\algorithms\\moo\\nsga2.py:191: RuntimeWarning: invalid value encountered in double_scalars\n",
      "  b = E[0][0] - E[1][0]\n"
     ]
    },
    {
     "name": "stdout",
     "output_type": "stream",
     "text": [
      "==========================================================================\n",
      "n_gen  |  n_eval  | n_nds  |      igd      |       gd      |       hv     \n",
      "==========================================================================\n",
      "     1 |      100 |     12 |  0.3582566967 |  0.3339977656 |  0.2120000000\n",
      "     2 |      200 |     13 |  0.3531291336 |  0.2972756385 |  0.2216666667\n",
      "     3 |      300 |     22 |  0.3478367676 |  0.2917999580 |  0.2253333333\n",
      "     4 |      400 |     33 |  0.3478367676 |  0.3015488368 |  0.2253333333\n",
      "     5 |      500 |     42 |  0.3467269754 |  0.3049851812 |  0.2260000000\n",
      "     6 |      600 |     51 |  0.3467269754 |  0.3066069143 |  0.2260000000\n",
      "     7 |      700 |     65 |  0.3467269754 |  0.3010602960 |  0.2260000000\n",
      "     8 |      800 |     80 |  0.3467269754 |  0.3011166988 |  0.2260000000\n",
      "     9 |      900 |     97 |  0.3467269754 |  0.3023885289 |  0.2260000000\n",
      "    10 |     1000 |     96 |  0.3467269754 |  0.3026469729 |  0.2260000000\n",
      "    11 |     1100 |     96 |  0.3467269754 |  0.3021295677 |  0.2260000000\n",
      "    12 |     1200 |     96 |  0.3467269754 |  0.3011922127 |  0.2260000000\n",
      "    13 |     1300 |     96 |  0.3467269754 |  0.2999749652 |  0.2260000000\n",
      "    14 |     1400 |     96 |  0.3467269754 |  0.2985664158 |  0.2260000000\n",
      "    15 |     1500 |     96 |  0.3467269754 |  0.2954694246 |  0.2260000000\n",
      "    16 |     1600 |     96 |  0.3467269754 |  0.2935434700 |  0.2260000000\n",
      "    17 |     1700 |     96 |  0.3467269754 |  0.2962655193 |  0.2260000000\n",
      "    18 |     1800 |     96 |  0.3467269754 |  0.2915262969 |  0.2260000000\n",
      "    19 |     1900 |     96 |  0.3467269754 |  0.2891791896 |  0.2260000000\n",
      "    20 |     2000 |     96 |  0.3467269754 |  0.2886167766 |  0.2260000000\n",
      "    21 |     2100 |     96 |  0.3467269754 |  0.2877244294 |  0.2260000000\n",
      "    22 |     2200 |     96 |  0.3467269754 |  0.2888042476 |  0.2260000000\n",
      "    23 |     2300 |     96 |  0.3467269754 |  0.2906339497 |  0.2260000000\n",
      "    24 |     2400 |     96 |  0.3467269754 |  0.2908214207 |  0.2260000000\n",
      "    25 |     2500 |     96 |  0.3467269754 |  0.2898378550 |  0.2260000000\n",
      "    26 |     2600 |     96 |  0.3467269754 |  0.2940146644 |  0.2260000000\n",
      "    27 |     2700 |     96 |  0.3467269754 |  0.2952819536 |  0.2260000000\n",
      "    28 |     2800 |     96 |  0.3467269754 |  0.2925148964 |  0.2260000000\n",
      "    29 |     2900 |     96 |  0.3467269754 |  0.2938283964 |  0.2260000000\n",
      "    30 |     3000 |     96 |  0.3467269754 |  0.2914812891 |  0.2260000000\n",
      "    31 |     3100 |     96 |  0.3467269754 |  0.2909188761 |  0.2260000000\n",
      "    32 |     3200 |     96 |  0.3467269754 |  0.2909188761 |  0.2260000000\n",
      "    33 |     3300 |     96 |  0.3467269754 |  0.2890891740 |  0.2260000000\n",
      "    34 |     3400 |     96 |  0.3467269754 |  0.2864633771 |  0.2260000000\n",
      "    35 |     3500 |     96 |  0.3467269754 |  0.2880593974 |  0.2260000000\n",
      "    36 |     3600 |     96 |  0.3467269754 |  0.2866970589 |  0.2260000000\n",
      "    37 |     3700 |     96 |  0.3467269754 |  0.2861346459 |  0.2260000000\n",
      "    38 |     3800 |     96 |  0.3467269754 |  0.2850098199 |  0.2260000000\n",
      "    39 |     3900 |     96 |  0.3467269754 |  0.2840724649 |  0.2260000000\n",
      "    40 |     4000 |     96 |  0.3467269754 |  0.2833225810 |  0.2260000000\n",
      "    41 |     4100 |     96 |  0.3467269754 |  0.2847773411 |  0.2260000000\n",
      "    42 |     4200 |     96 |  0.3467269754 |  0.2893290925 |  0.2260000000\n",
      "    43 |     4300 |     96 |  0.3467269754 |  0.2897040345 |  0.2260000000\n",
      "    44 |     4400 |     96 |  0.3467269754 |  0.2860896381 |  0.2260000000\n",
      "    45 |     4500 |     96 |  0.3467269754 |  0.2884367454 |  0.2260000000\n",
      "    46 |     4600 |     96 |  0.3467269754 |  0.2853397541 |  0.2260000000\n",
      "    47 |     4700 |     96 |  0.3467269754 |  0.2849186013 |  0.2260000000\n",
      "    48 |     4800 |     96 |  0.3467269754 |  0.2805543209 |  0.2260000000\n",
      "    49 |     4900 |     96 |  0.3467269754 |  0.2805543209 |  0.2260000000\n",
      "    50 |     5000 |     96 |  0.3467269754 |  0.2807417919 |  0.2260000000\n"
     ]
    }
   ],
   "source": [
    "import numpy as np\n",
    "rs = []\n",
    "for i in range(len(tasks)):\n",
    "    problem = get_problem(\"nfv\",tasks[i][0],tasks[i][1],tasks[i][2])\n",
    "    algorithm = NSGA2(pop_size=100)\n",
    "    res = minimize(problem,\n",
    "                algorithm,\n",
    "                ('n_gen', 50),\n",
    "                seed=1,\n",
    "                verbose=True)\n",
    "    rs.append(res)\n",
    "    F = res.opt.get(\"F\")\n",
    "    # np.savetxt(f'result/knee_nsga2/{tasks[i][2]}.txt',np.array(F))\n",
    "    break"
   ]
  },
  {
   "cell_type": "code",
   "execution_count": 214,
   "metadata": {},
   "outputs": [
    {
     "data": {
      "text/plain": [
       "array([[0.5       , 0.83666667],\n",
       "       [0.6       , 0.53      ],\n",
       "       [0.7       , 0.48666667],\n",
       "       [0.8       , 0.44333333]])"
      ]
     },
     "execution_count": 214,
     "metadata": {},
     "output_type": "execute_result"
    }
   ],
   "source": [
    "np.unique(F,axis=0)"
   ]
  },
  {
   "cell_type": "code",
   "execution_count": null,
   "metadata": {},
   "outputs": [],
   "source": []
  }
 ],
 "metadata": {
  "kernelspec": {
   "display_name": "mfea",
   "language": "python",
   "name": "python3"
  },
  "language_info": {
   "codemirror_mode": {
    "name": "ipython",
    "version": 3
   },
   "file_extension": ".py",
   "mimetype": "text/x-python",
   "name": "python",
   "nbconvert_exporter": "python",
   "pygments_lexer": "ipython3",
   "version": "3.7.13"
  },
  "orig_nbformat": 4,
  "vscode": {
   "interpreter": {
    "hash": "4edada56b92248170e10c115f7655f4c6f5b3f79a5836db2c7b2e80efd30f032"
   }
  }
 },
 "nbformat": 4,
 "nbformat_minor": 2
}
